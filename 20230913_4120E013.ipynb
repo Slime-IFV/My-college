{
  "nbformat": 4,
  "nbformat_minor": 0,
  "metadata": {
    "colab": {
      "provenance": []
    },
    "kernelspec": {
      "name": "python3",
      "display_name": "Python 3"
    },
    "language_info": {
      "name": "python"
    }
  },
  "cells": [
    {
      "cell_type": "code",
      "execution_count": 1,
      "metadata": {
        "colab": {
          "base_uri": "https://localhost:8080/"
        },
        "id": "j7LAY1xXvwNy",
        "outputId": "53a94343-294c-480f-9817-4205dc89d5c7"
      },
      "outputs": [
        {
          "output_type": "execute_result",
          "data": {
            "text/plain": [
              "10460353203"
            ]
          },
          "metadata": {},
          "execution_count": 1
        }
      ],
      "source": [
        "3**21"
      ]
    }
  ]
}