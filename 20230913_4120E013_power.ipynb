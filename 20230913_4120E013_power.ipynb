{
  "nbformat": 4,
  "nbformat_minor": 0,
  "metadata": {
    "colab": {
      "provenance": []
    },
    "kernelspec": {
      "name": "python3",
      "display_name": "Python 3"
    },
    "language_info": {
      "name": "python"
    }
  },
  "cells": [
    {
      "cell_type": "code",
      "execution_count": 1,
      "metadata": {
        "colab": {
          "base_uri": "https://localhost:8080/"
        },
        "id": "dK36mn0bpD2S",
        "outputId": "d032288e-5029-4941-9c82-c3d25a47c2d8"
      },
      "outputs": [
        {
          "output_type": "stream",
          "name": "stdout",
          "text": [
            "enter nuber A : 3\n",
            "enter nuber B : 5\n",
            "A^b =  243\n"
          ]
        }
      ],
      "source": [
        "a=int(input('enter nuber A : '))\n",
        "b=int(input('enter nuber B : '))\n",
        "print('A^b = ',a**b)"
      ]
    }
  ]
}