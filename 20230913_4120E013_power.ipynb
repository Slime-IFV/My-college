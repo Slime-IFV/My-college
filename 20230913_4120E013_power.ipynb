{
  "nbformat": 4,
  "nbformat_minor": 0,
  "metadata": {
    "colab": {
      "provenance": [],
      "authorship_tag": "ABX9TyO+nEV42uoEMRC2E0jNJiqW",
      "include_colab_link": true
    },
    "kernelspec": {
      "name": "python3",
      "display_name": "Python 3"
    },
    "language_info": {
      "name": "python"
    }
  },
  "cells": [
    {
      "cell_type": "markdown",
      "metadata": {
        "id": "view-in-github",
        "colab_type": "text"
      },
      "source": [
        "<a href=\"https://colab.research.google.com/github/Slime-IFV/cs20230913/blob/main/20230913_4120E013_power.ipynb\" target=\"_parent\"><img src=\"https://colab.research.google.com/assets/colab-badge.svg\" alt=\"Open In Colab\"/></a>"
      ]
    },
    {
      "cell_type": "code",
      "execution_count": 1,
      "metadata": {
        "colab": {
          "base_uri": "https://localhost:8080/"
        },
        "id": "dK36mn0bpD2S",
        "outputId": "d032288e-5029-4941-9c82-c3d25a47c2d8"
      },
      "outputs": [
        {
          "output_type": "stream",
          "name": "stdout",
          "text": [
            "enter nuber A : 3\n",
            "enter nuber B : 5\n",
            "A^b =  243\n"
          ]
        }
      ],
      "source": [
        "a=int(input('enter nuber A : '))\n",
        "b=int(input('enter nuber B : '))\n",
        "print('A^b = ',a**b)"
      ]
    }
  ]
}